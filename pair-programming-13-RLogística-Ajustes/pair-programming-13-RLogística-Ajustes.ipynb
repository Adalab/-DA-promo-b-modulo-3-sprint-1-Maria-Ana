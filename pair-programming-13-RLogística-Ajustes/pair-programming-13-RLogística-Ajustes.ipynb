{
 "cells": [
  {
   "cell_type": "code",
   "execution_count": 1,
   "metadata": {},
   "outputs": [],
   "source": [
    "# Tratamiento de datos\n",
    "# -----------------------------------------------------------------------\n",
    "import numpy as np\n",
    "import pandas as pd\n",
    "\n",
    "# Gráficos\n",
    "# ------------------------------------------------------------------------------\n",
    "import matplotlib.pyplot as plt\n",
    "import seaborn as sns\n",
    "\n",
    "\n",
    "#  Modelado y matriz de confusión\n",
    "# ------------------------------------------------------------------------------\n",
    "from sklearn.model_selection import train_test_split\n",
    "from sklearn.linear_model import LogisticRegression\n",
    "from sklearn.metrics import confusion_matrix, accuracy_score, precision_score, recall_score, f1_score , cohen_kappa_score, roc_curve,roc_auc_score\n",
    "\n",
    "\n",
    "\n",
    "#  Gestión de warnings\n",
    "# ------------------------------------------------------------------------------\n",
    "import warnings\n",
    "warnings.filterwarnings(\"ignore\")"
   ]
  },
  {
   "cell_type": "code",
   "execution_count": 2,
   "metadata": {},
   "outputs": [],
   "source": [
    "df =  pd.read_pickle(\"../datos/setas/setas_balance.pkl\")"
   ]
  },
  {
   "cell_type": "code",
   "execution_count": 3,
   "metadata": {},
   "outputs": [],
   "source": [
    "# separamos los datos en X e y\n",
    "\n",
    "X1 = df.drop(\"class\", axis = 1)\n",
    "y1 = df[\"class\"] "
   ]
  },
  {
   "cell_type": "code",
   "execution_count": 4,
   "metadata": {},
   "outputs": [],
   "source": [
    "x_train1, x_test1, y_train1, y_test1 = train_test_split(X1, y1, test_size = 0.2, random_state = 42) "
   ]
  },
  {
   "cell_type": "code",
   "execution_count": 5,
   "metadata": {},
   "outputs": [],
   "source": [
    "# definimos la regresión logistica\n",
    "\n",
    "log_reg = LogisticRegression(n_jobs=-1, max_iter = 1000)\n",
    "\n",
    "# ajustamos el modelo\n",
    "log_reg.fit(x_train1,y_train1)\n",
    "\n",
    "# obtenemos las predicciones para el conjunto de entrenamiento\n",
    "y_pred_train = log_reg.predict(x_train1)\n",
    "\n",
    "# obtenemos las predicciones para el conjunto de test\n",
    "y_pred_test = log_reg.predict(x_test1) "
   ]
  },
  {
   "cell_type": "code",
   "execution_count": 6,
   "metadata": {},
   "outputs": [
    {
     "data": {
      "text/html": [
       "<div>\n",
       "<style scoped>\n",
       "    .dataframe tbody tr th:only-of-type {\n",
       "        vertical-align: middle;\n",
       "    }\n",
       "\n",
       "    .dataframe tbody tr th {\n",
       "        vertical-align: top;\n",
       "    }\n",
       "\n",
       "    .dataframe thead th {\n",
       "        text-align: right;\n",
       "    }\n",
       "</style>\n",
       "<table border=\"1\" class=\"dataframe\">\n",
       "  <thead>\n",
       "    <tr style=\"text-align: right;\">\n",
       "      <th></th>\n",
       "      <th>Real</th>\n",
       "      <th>Predicted</th>\n",
       "      <th>Set</th>\n",
       "    </tr>\n",
       "  </thead>\n",
       "  <tbody>\n",
       "    <tr>\n",
       "      <th>17355</th>\n",
       "      <td>0</td>\n",
       "      <td>0</td>\n",
       "      <td>Train</td>\n",
       "    </tr>\n",
       "    <tr>\n",
       "      <th>38215</th>\n",
       "      <td>1</td>\n",
       "      <td>1</td>\n",
       "      <td>Train</td>\n",
       "    </tr>\n",
       "    <tr>\n",
       "      <th>23317</th>\n",
       "      <td>1</td>\n",
       "      <td>1</td>\n",
       "      <td>Train</td>\n",
       "    </tr>\n",
       "    <tr>\n",
       "      <th>21525</th>\n",
       "      <td>1</td>\n",
       "      <td>1</td>\n",
       "      <td>Train</td>\n",
       "    </tr>\n",
       "    <tr>\n",
       "      <th>18924</th>\n",
       "      <td>0</td>\n",
       "      <td>0</td>\n",
       "      <td>Train</td>\n",
       "    </tr>\n",
       "  </tbody>\n",
       "</table>\n",
       "</div>"
      ],
      "text/plain": [
       "      Real  Predicted    Set\n",
       "17355    0          0  Train\n",
       "38215    1          1  Train\n",
       "23317    1          1  Train\n",
       "21525    1          1  Train\n",
       "18924    0          0  Train"
      ]
     },
     "execution_count": 6,
     "metadata": {},
     "output_type": "execute_result"
    }
   ],
   "source": [
    "train_df= pd.DataFrame({'Real': y_train1, 'Predicted': y_pred_train, 'Set': ['Train']*len(y_train1)})\n",
    "test_df= pd.DataFrame({'Real': y_test1, 'Predicted': y_pred_test, 'Set': ['Test']*len(y_test1)})\n",
    "resultados = pd.concat([train_df,test_df], axis = 0)\n",
    "resultados.head() "
   ]
  },
  {
   "cell_type": "code",
   "execution_count": 7,
   "metadata": {},
   "outputs": [
    {
     "data": {
      "image/png": "[encoded data removed]",
      "text/plain": [
       "<Figure size 1200x800 with 2 Axes>"
      ]
     },
     "metadata": {},
     "output_type": "display_data"
    }
   ],
   "source": [
    "# MATRIZ DE CORRELACIÓN PARA DATOS CODIFICADOS Y ESTANDARIZADOS\n",
    "\n",
    "mat_lr1 = confusion_matrix(y_test1, y_pred_test)\n",
    "\n",
    "plt.figure(figsize = (12, 8))\n",
    "sns.heatmap(mat_lr1, square=True, annot=True, fmt=\"d\", cmap = \"viridis\")\n",
    "\n",
    "plt.xlabel('valor predicho')\n",
    "plt.ylabel('valor real')\n",
    "plt.show() "
   ]
  },
  {
   "cell_type": "markdown",
   "metadata": {},
   "source": [
    "Expliquemos los resultados que vemos en esta matriz de confusión: \n",
    "\n",
    "Antes de nada recordemos que en nuestro *dataframe* la variable respuesta se dividía de la siguiente forma: \n",
    "\n",
    "- 0: Es venenosa \n",
    "\n",
    "- 1: No es venenosa, es comestible\n",
    "\n",
    "\n",
    "En este contexto: \n",
    "\n",
    "- El número 3173 (valor real 0 (venenosa), valor predicho 0 (venenosa)), indica que nuestro modelo ha predicho 3173 setas venenosas que son venenosas. \n",
    "\n",
    "- El número 3410 (valor real 1 (comestible), valor predicho 1 (comestible)), indica que nuestro modelo a predicho 3410 setas venenosas que son venenosas. \n",
    "\n",
    "- El número 803 (abajo a la izquierda) (valor real 1 (comestible), valor predicho 0 (venenosa)), indica que nuestro modelo esta prediciendo 803 setas venenosas que en realidad son comestibles. \n",
    "\n",
    "- El número 1092 (valor real 0 (venenosa), valor predicho 1 (comestible)) indica que nuestro modelo esta prediciendo 1092 setas comestibles que en realidad son venenosas.  "
   ]
  },
  {
   "cell_type": "markdown",
   "metadata": {},
   "source": [
    "# MÉTRICAS"
   ]
  },
  {
   "cell_type": "code",
   "execution_count": 8,
   "metadata": {},
   "outputs": [],
   "source": [
    "def metricas(clases_reales_test, clases_predichas_test, clases_reales_train, clases_predichas_train, modelo):\n",
    "\n",
    "    # para el test\n",
    "    accuracy_test = accuracy_score(clases_reales_test, clases_predichas_test)\n",
    "    precision_test = precision_score(clases_reales_test, clases_predichas_test)\n",
    "    recall_test = recall_score(clases_reales_test, clases_predichas_test)\n",
    "    f1_test = f1_score(clases_reales_test, clases_predichas_test)\n",
    "    kappa_test = cohen_kappa_score(clases_reales_test, clases_predichas_test)\n",
    "\n",
    "    # para el train\n",
    "    accuracy_train = accuracy_score(clases_reales_train, clases_predichas_train)\n",
    "    precision_train = precision_score(clases_reales_train, clases_predichas_train)\n",
    "    recall_train = recall_score(clases_reales_train, clases_predichas_train)\n",
    "    f1_train = f1_score(clases_reales_train, clases_predichas_train)\n",
    "    kappa_train = cohen_kappa_score(clases_reales_train, clases_predichas_train)\n",
    "\n",
    "    # definimos el datafram de return\n",
    "    df = pd.DataFrame({\"accuracy\": [accuracy_test, accuracy_train], \n",
    "    \"precision\": [precision_test, precision_train],\n",
    "    \"recall\": [recall_test, recall_train], \n",
    "    \"f1\": [f1_test, f1_train],\n",
    "    \"kappa\": [kappa_test, kappa_train],\n",
    "    \"set\": [\"test\", \"train\"]})\n",
    "\n",
    "    df[\"modelo\"] = modelo\n",
    "    \n",
    "    return df "
   ]
  },
  {
   "cell_type": "code",
   "execution_count": 9,
   "metadata": {},
   "outputs": [
    {
     "data": {
      "text/html": [
       "<div>\n",
       "<style scoped>\n",
       "    .dataframe tbody tr th:only-of-type {\n",
       "        vertical-align: middle;\n",
       "    }\n",
       "\n",
       "    .dataframe tbody tr th {\n",
       "        vertical-align: top;\n",
       "    }\n",
       "\n",
       "    .dataframe thead th {\n",
       "        text-align: right;\n",
       "    }\n",
       "</style>\n",
       "<table border=\"1\" class=\"dataframe\">\n",
       "  <thead>\n",
       "    <tr style=\"text-align: right;\">\n",
       "      <th></th>\n",
       "      <th>accuracy</th>\n",
       "      <th>precision</th>\n",
       "      <th>recall</th>\n",
       "      <th>f1</th>\n",
       "      <th>kappa</th>\n",
       "      <th>set</th>\n",
       "      <th>modelo</th>\n",
       "    </tr>\n",
       "  </thead>\n",
       "  <tbody>\n",
       "    <tr>\n",
       "      <th>0</th>\n",
       "      <td>0.776480</td>\n",
       "      <td>0.757441</td>\n",
       "      <td>0.809399</td>\n",
       "      <td>0.782559</td>\n",
       "      <td>0.553131</td>\n",
       "      <td>test</td>\n",
       "      <td>Regresión logistica</td>\n",
       "    </tr>\n",
       "    <tr>\n",
       "      <th>1</th>\n",
       "      <td>0.780153</td>\n",
       "      <td>0.766895</td>\n",
       "      <td>0.805960</td>\n",
       "      <td>0.785942</td>\n",
       "      <td>0.560271</td>\n",
       "      <td>train</td>\n",
       "      <td>Regresión logistica</td>\n",
       "    </tr>\n",
       "  </tbody>\n",
       "</table>\n",
       "</div>"
      ],
      "text/plain": [
       "   accuracy  precision    recall        f1     kappa    set  \\\n",
       "0  0.776480   0.757441  0.809399  0.782559  0.553131   test   \n",
       "1  0.780153   0.766895  0.805960  0.785942  0.560271  train   \n",
       "\n",
       "                modelo  \n",
       "0  Regresión logistica  \n",
       "1  Regresión logistica  "
      ]
     },
     "execution_count": 9,
     "metadata": {},
     "output_type": "execute_result"
    }
   ],
   "source": [
    "results_logistic_esta = metricas(y_test1, y_pred_test, y_train1, y_pred_train, \"Regresión logistica\")\n",
    "results_logistic_esta "
   ]
  },
  {
   "cell_type": "markdown",
   "metadata": {},
   "source": [
    "### Interpretando métricas\n",
    "\n",
    "- Accuracy: nuestro modelo acierta el 78% de las veces\n",
    "\n",
    "- Precision: nuestro modelo se equivocará un 24% de las veces, prediciendo que una seta es venenosa cuando en realidad no lo es. \n",
    "\n",
    "- Recall: nuestro modelo es capaz de identificar un 81% de las setas que son venenosas. \n",
    "\n",
    "- Kappa: tenemos un valor de 0.5. Esto nos indica que la concordancia de nuestros datos es moderada. El 55% de nuestros resultados son predichos solo por azar. Por lo tanto nuestro modelo no es muy bueno. "
   ]
  },
  {
   "cell_type": "markdown",
   "metadata": {},
   "source": [
    "### Conclusiones\n",
    "\n",
    "Pareciera que nuestras métricas no son malas, pero con un valor tan alto de kappa gran parte de nuestros datos son predichos por azar, por lo tanto no es un buen modelo. Nuestros próximos pasos serán probar otro tipo de modelos y evaluar si conseguimos uno mejor. Nos interesaría bajar la cantidad de Falsos Negativos, ya que estamos diciendo que una seta es comestible cuando en realidad es venenosa. "
   ]
  }
 ],
 "metadata": {
  "kernelspec": {
   "display_name": "Python 3.9.13 ('base')",
   "language": "python",
   "name": "python3"
  },
  "language_info": {
   "codemirror_mode": {
    "name": "ipython",
    "version": 3
   },
   "file_extension": ".py",
   "mimetype": "text/x-python",
   "name": "python",
   "nbconvert_exporter": "python",
   "pygments_lexer": "ipython3",
   "version": "3.9.13"
  },
  "orig_nbformat": 4,
  "vscode": {
   "interpreter": {
    "hash": "0620710c65b0f5ccc651a2aa8870ae0eb4c70492424a8d7866846658189426a3"
   }
  }
 },
 "nbformat": 4,
 "nbformat_minor": 2
}
