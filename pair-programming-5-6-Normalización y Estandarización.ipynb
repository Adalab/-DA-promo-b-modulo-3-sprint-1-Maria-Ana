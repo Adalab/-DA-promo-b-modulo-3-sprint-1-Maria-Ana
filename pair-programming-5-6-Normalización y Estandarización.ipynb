{
 "cells": [
  {
   "cell_type": "markdown",
   "metadata": {},
   "source": [
    "### En vuestro dataset habréis identificado unas variables predictoras y una variable respuesta. Los objetivos del pair programming de hoy son:\n",
    "\n",
    "    - Sobre la variable respuesta, en pair programmings anterior identificastéis si seguía una distribución normal o no. \n",
    "    - En caso de que no siguiera una distribución normal, normalizarla. Podéis usar el método que prefiráis o el que mejor se ajuste\n",
    "\n",
    "Guardar en un csv el nuevo dataframe que habéis creado para seguir usándolo en los siguientes pair programmings"
   ]
  },
  {
   "cell_type": "code",
   "execution_count": 20,
   "metadata": {},
   "outputs": [],
   "source": [
    "import pandas as pd\n",
    "import random \n",
    "import seaborn as sns\n",
    "import numpy as np\n",
    "import matplotlib.pyplot as plt\n",
    "from scipy import stats\n",
    "\n",
    "import researchpy as rp\n",
    "import scipy.stats as stats\n",
    "from scipy.stats import levene\n",
    "\n",
    "from sklearn.preprocessing import StandardScaler\n",
    "\n",
    "\n",
    "plt.rcParams[\"figure.figsize\"] = (10,8) "
   ]
  },
  {
   "cell_type": "code",
   "execution_count": 3,
   "metadata": {},
   "outputs": [],
   "source": [
    "df = pd.read_pickle(\"./datos/possum_limpio.pkl\")"
   ]
  },
  {
   "cell_type": "markdown",
   "metadata": {},
   "source": [
    "### nuestra variable respuesta elegida es \"totlngth\" que hace referencia al largo total de nuestros sujetos. Ya teníamos analizada su distribución y sabemos que es normal, por varios métodos, por analisis visual y a través de la evaluación del p-valor obtenido en el test saphiro. \n",
    "### aquí repetimos los análisis para que consten. "
   ]
  },
  {
   "cell_type": "code",
   "execution_count": 4,
   "metadata": {},
   "outputs": [
    {
     "data": {
      "text/plain": [
       "ShapiroResult(statistic=0.9839882850646973, pvalue=0.24401579797267914)"
      ]
     },
     "execution_count": 4,
     "metadata": {},
     "output_type": "execute_result"
    }
   ],
   "source": [
    "# test de shapiro --> p-valor superior a 0,05 aceptamos la H0, nuestra distribución es normal. \n",
    "stats.shapiro(df[\"totlngth\"])"
   ]
  },
  {
   "cell_type": "code",
   "execution_count": 5,
   "metadata": {},
   "outputs": [
    {
     "data": {
      "image/png": "[encoded data removed]",
      "text/plain": [
       "<Figure size 500x500 with 1 Axes>"
      ]
     },
     "metadata": {},
     "output_type": "display_data"
    }
   ],
   "source": [
    "# representación visual de la distribución, mediante un displot. \n",
    "sns.displot(df[\"totlngth\"], kde = True, color = \"pink\");"
   ]
  },
  {
   "cell_type": "markdown",
   "metadata": {},
   "source": [
    "### En vuestro dataset habréis identificado unas variables predictoras y una variable respuesta. Los objetivos del pair programming de hoy son:\n",
    "\n",
    "    - Sobre las variables predictoras, en este caso deberéis estandarizar estas variables. De nuevo, usad el método que prefiráis.\n",
    "\n",
    "    - Guardar en un csv el nuevo dataframe que habéis creado para seguir usándolo en los siguientes pair programmings"
   ]
  },
  {
   "cell_type": "code",
   "execution_count": 6,
   "metadata": {},
   "outputs": [
    {
     "data": {
      "text/html": [
       "<div>\n",
       "<style scoped>\n",
       "    .dataframe tbody tr th:only-of-type {\n",
       "        vertical-align: middle;\n",
       "    }\n",
       "\n",
       "    .dataframe tbody tr th {\n",
       "        vertical-align: top;\n",
       "    }\n",
       "\n",
       "    .dataframe thead th {\n",
       "        text-align: right;\n",
       "    }\n",
       "</style>\n",
       "<table border=\"1\" class=\"dataframe\">\n",
       "  <thead>\n",
       "    <tr style=\"text-align: right;\">\n",
       "      <th></th>\n",
       "      <th>age</th>\n",
       "      <th>hdlngth</th>\n",
       "      <th>skullw</th>\n",
       "      <th>totlngth</th>\n",
       "      <th>taill</th>\n",
       "      <th>footlgth</th>\n",
       "      <th>earconch</th>\n",
       "      <th>eye</th>\n",
       "      <th>chest</th>\n",
       "      <th>belly</th>\n",
       "    </tr>\n",
       "  </thead>\n",
       "  <tbody>\n",
       "    <tr>\n",
       "      <th>0</th>\n",
       "      <td>8.0</td>\n",
       "      <td>94.1</td>\n",
       "      <td>60.4</td>\n",
       "      <td>89.0</td>\n",
       "      <td>36.0</td>\n",
       "      <td>74.5</td>\n",
       "      <td>54.5</td>\n",
       "      <td>15.2</td>\n",
       "      <td>28.0</td>\n",
       "      <td>36.0</td>\n",
       "    </tr>\n",
       "    <tr>\n",
       "      <th>1</th>\n",
       "      <td>6.0</td>\n",
       "      <td>92.5</td>\n",
       "      <td>57.6</td>\n",
       "      <td>91.5</td>\n",
       "      <td>36.5</td>\n",
       "      <td>72.5</td>\n",
       "      <td>51.2</td>\n",
       "      <td>16.0</td>\n",
       "      <td>28.5</td>\n",
       "      <td>33.0</td>\n",
       "    </tr>\n",
       "    <tr>\n",
       "      <th>2</th>\n",
       "      <td>6.0</td>\n",
       "      <td>94.0</td>\n",
       "      <td>60.0</td>\n",
       "      <td>95.5</td>\n",
       "      <td>39.0</td>\n",
       "      <td>75.4</td>\n",
       "      <td>51.9</td>\n",
       "      <td>15.5</td>\n",
       "      <td>30.0</td>\n",
       "      <td>34.0</td>\n",
       "    </tr>\n",
       "    <tr>\n",
       "      <th>3</th>\n",
       "      <td>6.0</td>\n",
       "      <td>93.2</td>\n",
       "      <td>57.1</td>\n",
       "      <td>92.0</td>\n",
       "      <td>38.0</td>\n",
       "      <td>76.1</td>\n",
       "      <td>52.2</td>\n",
       "      <td>15.2</td>\n",
       "      <td>28.0</td>\n",
       "      <td>34.0</td>\n",
       "    </tr>\n",
       "    <tr>\n",
       "      <th>4</th>\n",
       "      <td>2.0</td>\n",
       "      <td>91.5</td>\n",
       "      <td>56.3</td>\n",
       "      <td>85.5</td>\n",
       "      <td>36.0</td>\n",
       "      <td>71.0</td>\n",
       "      <td>53.2</td>\n",
       "      <td>15.1</td>\n",
       "      <td>28.5</td>\n",
       "      <td>33.0</td>\n",
       "    </tr>\n",
       "  </tbody>\n",
       "</table>\n",
       "</div>"
      ],
      "text/plain": [
       "   age  hdlngth  skullw  totlngth  taill  footlgth  earconch   eye  chest  \\\n",
       "0  8.0     94.1    60.4      89.0   36.0      74.5      54.5  15.2   28.0   \n",
       "1  6.0     92.5    57.6      91.5   36.5      72.5      51.2  16.0   28.5   \n",
       "2  6.0     94.0    60.0      95.5   39.0      75.4      51.9  15.5   30.0   \n",
       "3  6.0     93.2    57.1      92.0   38.0      76.1      52.2  15.2   28.0   \n",
       "4  2.0     91.5    56.3      85.5   36.0      71.0      53.2  15.1   28.5   \n",
       "\n",
       "   belly  \n",
       "0   36.0  \n",
       "1   33.0  \n",
       "2   34.0  \n",
       "3   34.0  \n",
       "4   33.0  "
      ]
     },
     "execution_count": 6,
     "metadata": {},
     "output_type": "execute_result"
    }
   ],
   "source": [
    "numericas = df.select_dtypes(include = np.number)\n",
    "numericas.head()"
   ]
  },
  {
   "cell_type": "code",
   "execution_count": 8,
   "metadata": {},
   "outputs": [
    {
     "data": {
      "text/plain": [
       "Index(['age', 'hdlngth', 'skullw', 'totlngth', 'taill', 'footlgth', 'earconch',\n",
       "       'eye', 'chest', 'belly'],\n",
       "      dtype='object')"
      ]
     },
     "execution_count": 8,
     "metadata": {},
     "output_type": "execute_result"
    }
   ],
   "source": [
    "numericas.columns"
   ]
  },
  {
   "cell_type": "code",
   "execution_count": 9,
   "metadata": {},
   "outputs": [
    {
     "data": {
      "text/html": [
       "<div>\n",
       "<style scoped>\n",
       "    .dataframe tbody tr th:only-of-type {\n",
       "        vertical-align: middle;\n",
       "    }\n",
       "\n",
       "    .dataframe tbody tr th {\n",
       "        vertical-align: top;\n",
       "    }\n",
       "\n",
       "    .dataframe thead th {\n",
       "        text-align: right;\n",
       "    }\n",
       "</style>\n",
       "<table border=\"1\" class=\"dataframe\">\n",
       "  <thead>\n",
       "    <tr style=\"text-align: right;\">\n",
       "      <th></th>\n",
       "      <th>count</th>\n",
       "      <th>mean</th>\n",
       "      <th>std</th>\n",
       "      <th>min</th>\n",
       "      <th>25%</th>\n",
       "      <th>50%</th>\n",
       "      <th>75%</th>\n",
       "      <th>max</th>\n",
       "    </tr>\n",
       "  </thead>\n",
       "  <tbody>\n",
       "    <tr>\n",
       "      <th>age</th>\n",
       "      <td>102.0</td>\n",
       "      <td>3.833333</td>\n",
       "      <td>1.909244</td>\n",
       "      <td>1.0</td>\n",
       "      <td>2.250</td>\n",
       "      <td>3.00</td>\n",
       "      <td>5.000</td>\n",
       "      <td>9.0</td>\n",
       "    </tr>\n",
       "    <tr>\n",
       "      <th>hdlngth</th>\n",
       "      <td>104.0</td>\n",
       "      <td>92.602885</td>\n",
       "      <td>3.573349</td>\n",
       "      <td>82.5</td>\n",
       "      <td>90.675</td>\n",
       "      <td>92.80</td>\n",
       "      <td>94.725</td>\n",
       "      <td>103.1</td>\n",
       "    </tr>\n",
       "    <tr>\n",
       "      <th>skullw</th>\n",
       "      <td>104.0</td>\n",
       "      <td>56.883654</td>\n",
       "      <td>3.113426</td>\n",
       "      <td>50.0</td>\n",
       "      <td>54.975</td>\n",
       "      <td>56.35</td>\n",
       "      <td>58.100</td>\n",
       "      <td>68.6</td>\n",
       "    </tr>\n",
       "    <tr>\n",
       "      <th>totlngth</th>\n",
       "      <td>104.0</td>\n",
       "      <td>87.088462</td>\n",
       "      <td>4.310549</td>\n",
       "      <td>75.0</td>\n",
       "      <td>84.000</td>\n",
       "      <td>88.00</td>\n",
       "      <td>90.000</td>\n",
       "      <td>96.5</td>\n",
       "    </tr>\n",
       "    <tr>\n",
       "      <th>taill</th>\n",
       "      <td>104.0</td>\n",
       "      <td>37.009615</td>\n",
       "      <td>1.959518</td>\n",
       "      <td>32.0</td>\n",
       "      <td>35.875</td>\n",
       "      <td>37.00</td>\n",
       "      <td>38.000</td>\n",
       "      <td>43.0</td>\n",
       "    </tr>\n",
       "    <tr>\n",
       "      <th>footlgth</th>\n",
       "      <td>103.0</td>\n",
       "      <td>68.459223</td>\n",
       "      <td>4.395306</td>\n",
       "      <td>60.3</td>\n",
       "      <td>64.600</td>\n",
       "      <td>68.00</td>\n",
       "      <td>72.500</td>\n",
       "      <td>77.9</td>\n",
       "    </tr>\n",
       "    <tr>\n",
       "      <th>earconch</th>\n",
       "      <td>104.0</td>\n",
       "      <td>48.130769</td>\n",
       "      <td>4.109380</td>\n",
       "      <td>40.3</td>\n",
       "      <td>44.800</td>\n",
       "      <td>46.80</td>\n",
       "      <td>52.000</td>\n",
       "      <td>56.2</td>\n",
       "    </tr>\n",
       "    <tr>\n",
       "      <th>eye</th>\n",
       "      <td>104.0</td>\n",
       "      <td>15.046154</td>\n",
       "      <td>1.050374</td>\n",
       "      <td>12.8</td>\n",
       "      <td>14.400</td>\n",
       "      <td>14.90</td>\n",
       "      <td>15.725</td>\n",
       "      <td>17.8</td>\n",
       "    </tr>\n",
       "    <tr>\n",
       "      <th>chest</th>\n",
       "      <td>104.0</td>\n",
       "      <td>27.000000</td>\n",
       "      <td>2.045597</td>\n",
       "      <td>22.0</td>\n",
       "      <td>25.500</td>\n",
       "      <td>27.00</td>\n",
       "      <td>28.000</td>\n",
       "      <td>32.0</td>\n",
       "    </tr>\n",
       "    <tr>\n",
       "      <th>belly</th>\n",
       "      <td>104.0</td>\n",
       "      <td>32.586538</td>\n",
       "      <td>2.761949</td>\n",
       "      <td>25.0</td>\n",
       "      <td>31.000</td>\n",
       "      <td>32.50</td>\n",
       "      <td>34.125</td>\n",
       "      <td>40.0</td>\n",
       "    </tr>\n",
       "  </tbody>\n",
       "</table>\n",
       "</div>"
      ],
      "text/plain": [
       "          count       mean       std   min     25%    50%     75%    max\n",
       "age       102.0   3.833333  1.909244   1.0   2.250   3.00   5.000    9.0\n",
       "hdlngth   104.0  92.602885  3.573349  82.5  90.675  92.80  94.725  103.1\n",
       "skullw    104.0  56.883654  3.113426  50.0  54.975  56.35  58.100   68.6\n",
       "totlngth  104.0  87.088462  4.310549  75.0  84.000  88.00  90.000   96.5\n",
       "taill     104.0  37.009615  1.959518  32.0  35.875  37.00  38.000   43.0\n",
       "footlgth  103.0  68.459223  4.395306  60.3  64.600  68.00  72.500   77.9\n",
       "earconch  104.0  48.130769  4.109380  40.3  44.800  46.80  52.000   56.2\n",
       "eye       104.0  15.046154  1.050374  12.8  14.400  14.90  15.725   17.8\n",
       "chest     104.0  27.000000  2.045597  22.0  25.500  27.00  28.000   32.0\n",
       "belly     104.0  32.586538  2.761949  25.0  31.000  32.50  34.125   40.0"
      ]
     },
     "execution_count": 9,
     "metadata": {},
     "output_type": "execute_result"
    }
   ],
   "source": [
    "numericas.describe().T"
   ]
  },
  {
   "cell_type": "markdown",
   "metadata": {},
   "source": [
    "#### Estandarizar generalmente significa cambiar los valores de nuestras columnas de manera que la desviación estándar de la distribución sea igual a 1 y la media igual a 0. En *machine learning* esta aproximación se suele aplicar a las variables predictoras, es decir, lo que haremos será estandarizar todas nuestras variables predictoras(las que usaremos para intentar predecir determinado comportamiento). "
   ]
  },
  {
   "cell_type": "markdown",
   "metadata": {},
   "source": [
    "La estandarización se ejecta sobre las variables predictoras. en nuestro caso elegimos las siguientes: \"hdlngth\" y \"taill\", que hacen referencia al largo total de la cabeza de nuestros sujetos y al largo total de la cola, respectivamente. \n",
    "Vamos a aplicar dos métodos de estandarización, uno para cada una de nuestras variables. El primero será manual, aplicando la fórmula directamente y el segundo lo haremos utilizando el método Sklearn StandardScaler."
   ]
  },
  {
   "cell_type": "code",
   "execution_count": 11,
   "metadata": {},
   "outputs": [],
   "source": [
    "# Estandarización manual de la variable predictora \"hdlngth\"\n",
    "\n",
    "# vamos a crear distintas variables con los estadísticos que necesitamos, media y desviacion estándar\n",
    "\n",
    "media = numericas['hdlngth'].mean()\n",
    "desviacion = numericas['hdlngth'].std() \n",
    "\n",
    "numericas['hdlngth_esta'] = (numericas['hdlngth'] - media) / desviacion\n"
   ]
  },
  {
   "cell_type": "code",
   "execution_count": 18,
   "metadata": {},
   "outputs": [
    {
     "data": {
      "image/png": "[encoded data removed]",
      "text/plain": [
       "<Figure size 1500x500 with 2 Axes>"
      ]
     },
     "metadata": {},
     "output_type": "display_data"
    }
   ],
   "source": [
    "fig, axes = plt.subplots(1, 2, figsize = (15,5))\n",
    "\n",
    "axes[0].set_title('Largo total. original')\n",
    "axes[1].set_title('Largo total. normalizado')\n",
    "\n",
    "sns.histplot(numericas['hdlngth'], ax = axes[0], color=\"green\",  kde=True, stat=\"density\", linewidth=0)\n",
    "sns.histplot(numericas['hdlngth_esta'], ax = axes[1], color=\"green\",  kde=True, stat=\"density\", linewidth=0)\n",
    "\n",
    "plt.grid()\n",
    "plt.show();"
   ]
  },
  {
   "cell_type": "code",
   "execution_count": 19,
   "metadata": {},
   "outputs": [
    {
     "name": "stdout",
     "output_type": "stream",
     "text": [
      "La media de la columna hdlngth_esta es:  -0.0\n",
      "La desviación estándar de la columna hdlngth_esta es: 1.0\n"
     ]
    }
   ],
   "source": [
    "# Recordemos que cuando estamos estadarizando lo que estamos haciendo es que la media de los datos sea igual a 0 \n",
    "# y la desviación igual a 1. Chequeemos si eso es cierto: \n",
    "\n",
    "print(f'La media de la columna hdlngth_esta es:  {np.round(numericas[\"hdlngth_esta\"].mean(),1)}')\n",
    "print(f'La desviación estándar de la columna hdlngth_esta es: {np.round(numericas[\"hdlngth_esta\"].std(),1)}')"
   ]
  },
  {
   "cell_type": "markdown",
   "metadata": {},
   "source": [
    "### Falta estandarizar la variable \"taill\" . Quiero usar un sklearn StandardScaler, pero en los apuntes se lo aplica a todas las variables numéricas del df menos a la variable predictora... es esto correcto? CONSULTAR CON MI COMPAÑERA ANTES DE REALIZAR LA ESTANDARIZACIÓN"
   ]
  },
  {
   "cell_type": "code",
   "execution_count": null,
   "metadata": {},
   "outputs": [],
   "source": [
    "# iniciamos el método para escalar\n",
    "\n",
    "scaler = StandardScaler()"
   ]
  },
  {
   "cell_type": "code",
   "execution_count": null,
   "metadata": {},
   "outputs": [],
   "source": []
  },
  {
   "cell_type": "code",
   "execution_count": null,
   "metadata": {},
   "outputs": [],
   "source": [
    "# de momento lo comento hasta no terminar la estandarización\n",
    "# df.to_pickle(\"./datos/possum_normalizado.pkl\")"
   ]
  }
 ],
 "metadata": {
  "kernelspec": {
   "display_name": "Python 3.9.7 ('base')",
   "language": "python",
   "name": "python3"
  },
  "language_info": {
   "codemirror_mode": {
    "name": "ipython",
    "version": 3
   },
   "file_extension": ".py",
   "mimetype": "text/x-python",
   "name": "python",
   "nbconvert_exporter": "python",
   "pygments_lexer": "ipython3",
   "version": "3.9.7"
  },
  "orig_nbformat": 4,
  "vscode": {
   "interpreter": {
    "hash": "8e1f904fe714ccd05b7907fe541d28c2ec20b612a1af6f34d013e1f0fd7aabf1"
   }
  }
 },
 "nbformat": 4,
 "nbformat_minor": 2
}
